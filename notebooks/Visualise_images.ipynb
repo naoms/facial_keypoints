{
 "cells": [
  {
   "cell_type": "markdown",
   "metadata": {},
   "source": [
    "# Display some images at different steps of the analysis "
   ]
  },
  {
   "cell_type": "markdown",
   "metadata": {},
   "source": [
    "The aim of this notebook is to enable the teams to vizualise images and actions that are performed through the analysis:\n",
    "- Image as received in the original file\n",
    "- Pump detection and end of the pump detection\n",
    "- Working zone delimitation"
   ]
  },
  {
   "cell_type": "code",
   "execution_count": null,
   "metadata": {},
   "outputs": [],
   "source": [
    "#!pip install opencv-python"
   ]
  },
  {
   "cell_type": "code",
   "execution_count": null,
   "metadata": {},
   "outputs": [],
   "source": [
    "# Imports \n",
    "import sys\n",
    "import os\n",
    "import cv2\n",
    "import json\n",
    "import pandas as pd\n",
    "import random\n",
    "import sys\n",
    "import matplotlib.pyplot as plt\n",
    "import matplotlib.image as mpimg\n",
    "from math import sqrt\n",
    "import glob\n",
    "sys.path.insert(0, \"..\")\n",
    "from utils_analytics import *"
   ]
  },
  {
   "cell_type": "markdown",
   "metadata": {},
   "source": [
    "## 1. Import Data and display some images containing pumps"
   ]
  },
  {
   "cell_type": "code",
   "execution_count": null,
   "metadata": {},
   "outputs": [],
   "source": [
    "# Selecting some images that do contain pump hoses \n",
    "data_df = pd.read_pickle('../inputs/table_labels_new.pkl')\n",
    "df_pump = data_df[(data_df['classTitle'] == 'Concrete_pump_hose') & (data_df['filename'].str.startswith('2020')) ]"
   ]
  },
  {
   "cell_type": "code",
   "execution_count": null,
   "metadata": {},
   "outputs": [],
   "source": [
    "# Creating directories with images with pump_hoses\n",
    "#! mkdir /home/jovyan/eleven2020/inputs/images_pump/\n",
    "#! mkdir /home/jovyan/eleven2020/inputs/labels_pump/"
   ]
  },
  {
   "cell_type": "code",
   "execution_count": null,
   "metadata": {},
   "outputs": [],
   "source": [
    "i = 0 \n",
    "for filename in df_pump[df_pump['classTitle'] == 'Concrete_pump_hose']['filename']:\n",
    "    if i == 150 :\n",
    "        break\n",
    "    else :\n",
    "        i+=1\n",
    "        #shutil.copy('/home/jovyan/eleven2020/inputs/images/'+filename[:-5], '/home/jovyan/eleven2020/inputs/images_pump/'+filename[:-5])\n",
    "        #shutil.copy('/home/jovyan/eleven2020/inputs/labels/'+filename, '/home/jovyan/eleven2020/inputs/labels_pump/'+filename)"
   ]
  },
  {
   "cell_type": "code",
   "execution_count": null,
   "metadata": {},
   "outputs": [],
   "source": [
    "# Showing images with pump hoses and their detections \n",
    "show_image_labeled_sample(20,'/home/jovyan/eleven2020/inputs/images_pump/', '/home/jovyan/eleven2020/inputs/labels_pump/')"
   ]
  },
  {
   "cell_type": "markdown",
   "metadata": {},
   "source": [
    "## 2. Display some images with pump extremity detected "
   ]
  },
  {
   "cell_type": "markdown",
   "metadata": {},
   "source": [
    "To find the extremity of the pump, we designed many rules that applied to some perspectives of the pump. \n",
    "Although we used only the first rule in our solution, the idea (with more time) would be to ponderate the three rules into a single one in order to adapt as much as possible to the position of the pump in each image. "
   ]
  },
  {
   "cell_type": "markdown",
   "metadata": {},
   "source": [
    "### a. First rule to find extremity : find thinnest part of polygon (what has been applied so far)"
   ]
  },
  {
   "cell_type": "code",
   "execution_count": null,
   "metadata": {},
   "outputs": [],
   "source": [
    "# Print a few images with extremity\n",
    "for file_name in list(df_pump.filename)[2:3]:\n",
    "    print(file_name)\n",
    "\n",
    "    polygon = list(df_pump[df_pump['filename']==file_name]['ext_points'])[0]\n",
    "\n",
    "    extremity = find_thinnest_part(polygon)\n",
    "\n",
    "    show_image_with_extremity('../inputs/images_pump/'+file_name[:-5], extremity, '../inputs/labels_pump/'+file_name)\n"
   ]
  },
  {
   "cell_type": "markdown",
   "metadata": {},
   "source": [
    "### b. Second rule : Find lowest point of polygon"
   ]
  },
  {
   "cell_type": "code",
   "execution_count": null,
   "metadata": {},
   "outputs": [],
   "source": [
    "# Print a few images with extremity\n",
    "for file_name in list(df_pump.filename)[100:101]:\n",
    "    print(file_name)\n",
    "\n",
    "    polygon = list(df_pump[df_pump['filename']==file_name]['ext_points'])[0]\n",
    "    print(polygon)\n",
    "    extremity = find_lowest_point(polygon)\n",
    "    print(extremity)\n",
    "\n",
    "    show_image_with_extremity('../inputs/images_pump/'+file_name[:-5], extremity, '../inputs/labels_pump/'+file_name)\n"
   ]
  },
  {
   "cell_type": "markdown",
   "metadata": {},
   "source": [
    "### c. Third rule : find point at the bottom of the most vertical line"
   ]
  },
  {
   "cell_type": "code",
   "execution_count": null,
   "metadata": {},
   "outputs": [],
   "source": [
    "# Defining some functions aiming at detecting the most vertical line of the polygon \n",
    "def slope_btw_two_points(pt1, pt2):\n",
    "    if ((pt2[0] == 0) & (pt1[0]== 0)) :\n",
    "        return -1\n",
    "    elif pt2[0]-pt1[0] != 0 :\n",
    "        slope = (pt2[1]-pt1[1])/(pt2[0]-pt1[0])\n",
    "        return slope\n",
    "    else :\n",
    "        return 10000\n",
    "        \n",
    "\n",
    "def find_lowest_vertical_point(polygon):\n",
    "    \"\"\"Returns the coordinates of the lowest point on the most vertical line of the polygon\n",
    "\n",
    "    Parameters\n",
    "    ----------\n",
    "    polygon : list\n",
    "        list of coordinates of the polygon\n",
    "    \"\"\"\n",
    "    most_vertical_slope = 0.001\n",
    "    for point_A in polygon:\n",
    "        for point_B in polygon: \n",
    "            if point_A != point_B : \n",
    "                slope = abs(slope_btw_two_points(point_A, point_B))\n",
    "                if slope > most_vertical_slope:\n",
    "                    most_vertical_slope = slope\n",
    "                    lowest_point = find_lowest_point([point_A, point_B])\n",
    "    print(point_A, point_B)\n",
    "    return lowest_point"
   ]
  },
  {
   "cell_type": "code",
   "execution_count": null,
   "metadata": {},
   "outputs": [],
   "source": [
    "# Printing a few images with extremity\n",
    "for file_name in list(df_pump.filename)[112:113]:\n",
    "    print(file_name)\n",
    "\n",
    "    polygon = list(df_pump[df_pump['filename']==file_name]['ext_points'])[0]\n",
    "    \n",
    "    extremity = find_lowest_vertical_point(polygon)\n",
    "\n",
    "\n",
    "    show_image_with_extremity('../inputs/images_pump/'+file_name[:-5], extremity, '../inputs/labels_pump/'+file_name)"
   ]
  },
  {
   "cell_type": "markdown",
   "metadata": {},
   "source": [
    "### Additional step : Trying to smooth polygons for better results"
   ]
  },
  {
   "cell_type": "markdown",
   "metadata": {},
   "source": [
    "Please note that this section is an intent that has not been applied afterwards, but that could help in getting even better results."
   ]
  },
  {
   "cell_type": "code",
   "execution_count": null,
   "metadata": {},
   "outputs": [],
   "source": [
    "def distance(pt1, pt2):\n",
    "    distance = sqrt( ((pt1[0]-pt2[0])**2)+((pt1[1]-pt2[1])**2) )\n",
    "    return distance\n",
    "\n",
    "def remove_small_segments(polygon, treshold):\n",
    "    new_polygon=[polygon[0]]\n",
    "    for index in range(len(polygon)):\n",
    "        if index == len(polygon) -1 :\n",
    "            break\n",
    "        else: \n",
    "            if distance(new_polygon[-1], polygon[index+1])>treshold:\n",
    "                new_polygon.append(polygon[index+1])\n",
    "    return new_polygon"
   ]
  },
  {
   "cell_type": "code",
   "execution_count": null,
   "metadata": {},
   "outputs": [],
   "source": [
    "slope_treshold = 0.05\n",
    "look_further = 5\n",
    "\n",
    "def liss(poly):\n",
    "    new_poly = [poly[0]]\n",
    "    new_index = 0\n",
    "    for index in range(len(poly)):\n",
    "        if index >= len(poly) - look_further+1:\n",
    "            break\n",
    "        elif index < new_index:\n",
    "            continue\n",
    "        else:\n",
    "            go_to = []\n",
    "            for i in range(index+1, index+look_further):\n",
    "                s_1 = slope_btw_two_points(poly[index], poly[i])\n",
    "                s_2 = slope_btw_two_points(poly[index], poly[i+1])\n",
    "                #print(s_2-s_1)\n",
    "                if abs(s_2-s_1) < slope_treshold:\n",
    "                    #maybe add condition if not ridiculous\n",
    "                    go_to = poly[i+1]\n",
    "                    new_index = index+i+1\n",
    "            if go_to == []: \n",
    "                go_to = poly[index+1]\n",
    "                new_index = index + 1\n",
    "            \n",
    "            #print(go_to)\n",
    "        new_poly.append(go_to)\n",
    "    return new_poly"
   ]
  },
  {
   "cell_type": "code",
   "execution_count": null,
   "metadata": {},
   "outputs": [],
   "source": [
    "# Selecting one image to show the result \n",
    "img_name = '2020_07_30_14_24_13.jpg.json'\n",
    "DIR_IMAGES= '../inputs/images_pump/'\n",
    "DIR_LABELS = '../inputs/labels_pump/'"
   ]
  },
  {
   "cell_type": "code",
   "execution_count": null,
   "metadata": {},
   "outputs": [],
   "source": [
    "# Applying the smoothness algorithm to one image \n",
    "random.seed(189)\n",
    "import random\n",
    "#for i in range(5):\n",
    "#img_name = random.choice(list(df_pump.filename))\n",
    "poly = list(df_pump[(df_pump['filename']==img_name) & (df_pump['classTitle']=='Concrete_pump_hose')]['ext_points'])[0]\n",
    "print(len(poly))\n",
    "if len(poly)>10 :\n",
    "    new_poly = remove_small_segments(poly, 15)\n",
    "    new_poly = liss(new_poly)\n",
    "elif(len(remove_small_segments(poly, 15)))>10:\n",
    "    new_poly = liss(new_poly)\n",
    "else :\n",
    "    new_poly = poly\n",
    "\n",
    "img = mpimg.imread(DIR_IMAGES+img_name[:-5])\n",
    "img_copy = img.copy()\n",
    "#out = cv2.fillPoly(img_copy, pts=[np.array([poly])], color = (239,132,91))\n",
    "out = cv2.fillPoly(img_copy, pts=[np.array([new_poly])], color = (75, 37, 109))\n",
    "plt.figure(figsize=(10, 10))\n",
    "plt.imshow(out)"
   ]
  },
  {
   "cell_type": "markdown",
   "metadata": {},
   "source": [
    "## 3. Print the zone and extended zone"
   ]
  },
  {
   "cell_type": "code",
   "execution_count": null,
   "metadata": {},
   "outputs": [],
   "source": [
    "# Selecting a datatable in which the zone has already been computed\n",
    "data_df = pd.read_pickle('../inputs/table_test.pkl')"
   ]
  },
  {
   "cell_type": "code",
   "execution_count": null,
   "metadata": {},
   "outputs": [],
   "source": [
    "# Choosing an image to display \n",
    "img_name = '2020_07_30_09_22_44.jpg.json'\n",
    "data_df[(data_df['filename']==img_name) & (data_df['classTitle']=='Concrete_pump_hose')]"
   ]
  },
  {
   "cell_type": "code",
   "execution_count": null,
   "metadata": {},
   "outputs": [],
   "source": [
    "# Showing the image of the zone / extended zone and the workers that are inside and outside of the zone \n",
    "print('This zone has been created with fake values just to show the extended zone and the workers')\n",
    "draw_pump_worker_anlysis(data_df,'../inputs/analytics/images/2020_07_30_09_22_44.jpg', '../inputs/analytics/labels/2020_07_30_09_22_44.jpg.json')"
   ]
  },
  {
   "cell_type": "code",
   "execution_count": null,
   "metadata": {},
   "outputs": [],
   "source": []
  }
 ],
 "metadata": {
  "kernelspec": {
   "display_name": "Python 3",
   "language": "python",
   "name": "python3"
  },
  "language_info": {
   "codemirror_mode": {
    "name": "ipython",
    "version": 3
   },
   "file_extension": ".py",
   "mimetype": "text/x-python",
   "name": "python",
   "nbconvert_exporter": "python",
   "pygments_lexer": "ipython3",
   "version": "3.7.7"
  }
 },
 "nbformat": 4,
 "nbformat_minor": 4
}
