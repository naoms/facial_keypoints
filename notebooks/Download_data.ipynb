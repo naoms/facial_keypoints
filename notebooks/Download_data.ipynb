{
 "cells": [
  {
   "cell_type": "markdown",
   "metadata": {},
   "source": [
    "### Downloading Inputs Data"
   ]
  },
  {
   "cell_type": "code",
   "execution_count": null,
   "metadata": {},
   "outputs": [],
   "source": [
    "import sys\n",
    "sys.path.insert(0, \"..\")"
   ]
  },
  {
   "cell_type": "code",
   "execution_count": null,
   "metadata": {},
   "outputs": [],
   "source": [
    "from azure.storage.blob import ContainerClient\n",
    "from blob_credentials import facts_sas_token, facts_container, workspace_sas_token, workspace_container\n",
    "from utils import download_files"
   ]
  },
  {
   "cell_type": "code",
   "execution_count": null,
   "metadata": {},
   "outputs": [],
   "source": [
    "INPUT_DIR = \"../inputs\"\n",
    "ACCOUNT_URL = \"https://hecdf.blob.core.windows.net\"\n",
    "\n",
    "facts_blob_service = ContainerClient(account_url=ACCOUNT_URL,\n",
    "                                     container_name=facts_container,\n",
    "                                     credential=facts_sas_token)\n",
    "workspace_blob_service = ContainerClient(account_url=ACCOUNT_URL,\n",
    "                                         container_name=workspace_container,\n",
    "                                         credential=workspace_sas_token)"
   ]
  },
  {
   "cell_type": "code",
   "execution_count": null,
   "metadata": {},
   "outputs": [],
   "source": [
    "download_files(facts_blob_service, INPUT_DIR)"
   ]
  },
  {
   "cell_type": "code",
   "execution_count": null,
   "metadata": {},
   "outputs": [],
   "source": [
    "! mkdir -p ../inputs/images ../inputs/labels\n",
    "! mv ../inputs/*.jpg.json ../inputs/labels\n",
    "! mv ../inputs/*.jpg ../inputs/images"
   ]
  },
  {
   "cell_type": "code",
   "execution_count": null,
   "metadata": {},
   "outputs": [],
   "source": []
  }
 ],
 "metadata": {
  "kernelspec": {
   "display_name": "Python 3",
   "language": "python",
   "name": "python3"
  },
  "language_info": {
   "codemirror_mode": {
    "name": "ipython",
    "version": 3
   },
   "file_extension": ".py",
   "mimetype": "text/x-python",
   "name": "python",
   "nbconvert_exporter": "python",
   "pygments_lexer": "ipython3",
   "version": "3.7.7"
  }
 },
 "nbformat": 4,
 "nbformat_minor": 4
}
