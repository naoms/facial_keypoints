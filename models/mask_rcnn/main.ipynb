{
 "cells": [
  {
   "cell_type": "markdown",
   "metadata": {
    "id": "T3XImn6g7tn6"
   },
   "source": [
    "#Running Mask-RCNN"
   ]
  },
  {
   "cell_type": "code",
   "execution_count": null,
   "metadata": {
    "colab": {
     "base_uri": "https://localhost:8080/"
    },
    "id": "a4OTyyrN8XLC",
    "outputId": "b98e372c-f1af-45e2-f097-554dc3cd3f34"
   },
   "outputs": [],
   "source": [
    "import os\n",
    "#%tensorflow_version 1.x"
   ]
  },
  {
   "cell_type": "code",
   "execution_count": null,
   "metadata": {
    "colab": {
     "base_uri": "https://localhost:8080/",
     "height": 37
    },
    "id": "wGvJcs3Z8Xob",
    "outputId": "8d2353a9-6d85-4cd5-fb28-54b78fe33353"
   },
   "outputs": [],
   "source": [
    "os.getcwd()"
   ]
  },
  {
   "cell_type": "code",
   "execution_count": null,
   "metadata": {
    "colab": {
     "base_uri": "https://localhost:8080/"
    },
    "id": "ocpnXcrNsYPd",
    "outputId": "988e47f6-74c2-4de4-df41-02c796a4033c"
   },
   "outputs": [],
   "source": [
    "#os.listdir(\"../../../../inputs/\")\n",
    "#os.chdir(\"samples/construction\")"
   ]
  },
  {
   "cell_type": "markdown",
   "metadata": {
    "id": "RRbVUfkZ9iI_"
   },
   "source": [
    "### Training"
   ]
  },
  {
   "cell_type": "code",
   "execution_count": null,
   "metadata": {
    "colab": {
     "base_uri": "https://localhost:8080/"
    },
    "id": "1iLW0zvFGL7f",
    "outputId": "dd5c3057-4698-4f94-fd7a-214ec8c65917"
   },
   "outputs": [],
   "source": [
    "!pip install keras==2.1.5\n",
    "!pip install tensorflow-gpu==1.15.2\n",
    "!pip install tensorflow==1.15.2"
   ]
  },
  {
   "cell_type": "code",
   "execution_count": null,
   "metadata": {
    "colab": {
     "base_uri": "https://localhost:8080/"
    },
    "id": "eUZzPAmZmMsB",
    "outputId": "f4847c52-37c0-4748-c53d-075433f603b7"
   },
   "outputs": [],
   "source": [
    "#!python construction.py train --dataset=/../../../../inputs/ --weights=coco"
   ]
  },
  {
   "cell_type": "code",
   "execution_count": null,
   "metadata": {},
   "outputs": [],
   "source": [
    "os.listdir()"
   ]
  },
  {
   "cell_type": "markdown",
   "metadata": {},
   "source": [
    "## Inference"
   ]
  },
  {
   "cell_type": "code",
   "execution_count": null,
   "metadata": {
    "colab": {
     "base_uri": "https://localhost:8080/"
    },
    "id": "Val8Fqv4cbOl",
    "outputId": "03c2614c-f04d-4892-eef8-4d331b5a2f61"
   },
   "outputs": [],
   "source": [
    "import os\n",
    "import sys\n",
    "import random\n",
    "import math\n",
    "import re\n",
    "import time\n",
    "import numpy as np\n",
    "import tensorflow as tf\n",
    "import matplotlib\n",
    "import matplotlib.pyplot as plt\n",
    "import matplotlib.patches as patches\n",
    "\n",
    "# Root directory of the model\n",
    "#ROOT_DIR = os.path.abspath(\"../../\")\n",
    "ROOT_DIR = \"\"\n",
    "\n",
    "# Import Mask RCNN\n",
    "sys.path.append(ROOT_DIR)  # To find local version of the library\n",
    "from mrcnn import utils\n",
    "from mrcnn import visualize\n",
    "#from mrcnn.visualize import display_images\n",
    "import mrcnn.model as modellib\n",
    "#from mrcnn.model import log\n",
    "from samples.construction import construction\n",
    "\n",
    "%matplotlib inline \n",
    "\n",
    "# Directory to save logs and trained model\n",
    "MODEL_DIR = os.path.join(ROOT_DIR, \"logs\")\n",
    "\n",
    "# Path to Ballon trained weights\n",
    "# You can download this file from the Releases page\n",
    "# https://github.com/matterport/Mask_RCNN/releases\n",
    "CONSTRUCTION_WEIGHTS_PATH = \"logs/mask_rcnn_construction_0030.h5\"  # TODO: update this path"
   ]
  },
  {
   "cell_type": "code",
   "execution_count": null,
   "metadata": {
    "id": "p1f1sUytcRAe"
   },
   "outputs": [],
   "source": [
    "DEVICE = \"/cpu:0\"  # /cpu:0 or /gpu:0"
   ]
  },
  {
   "cell_type": "code",
   "execution_count": null,
   "metadata": {
    "id": "htS2XVoSdXVX"
   },
   "outputs": [],
   "source": [
    "config = construction.ConstructionConfig()\n",
    "CONSTRUCTION_DIR = os.path.join(ROOT_DIR, \"../../inputs/datasets/\")"
   ]
  },
  {
   "cell_type": "markdown",
   "metadata": {
    "id": "FiXSqrPPdiOz"
   },
   "source": [
    "# New Section"
   ]
  },
  {
   "cell_type": "code",
   "execution_count": null,
   "metadata": {},
   "outputs": [],
   "source": [
    "from mrcnn.config import Config"
   ]
  },
  {
   "cell_type": "code",
   "execution_count": null,
   "metadata": {
    "colab": {
     "base_uri": "https://localhost:8080/"
    },
    "id": "uZLaMuqQdXuP",
    "outputId": "599ac001-1bc9-4827-b941-0b7dc17d3f65"
   },
   "outputs": [],
   "source": [
    "# Override the training configurations with a few\n",
    "# changes for inferencing.\n",
    "class InferenceConfig(config.__class__):\n",
    "    # Run detection on one image at a time\n",
    "    GPU_COUNT = 1\n",
    "    IMAGES_PER_GPU = 100\n",
    "    BATCH_SIZE = 100\n",
    "\n",
    "config = InferenceConfig()\n",
    "config.display()"
   ]
  },
  {
   "cell_type": "code",
   "execution_count": null,
   "metadata": {
    "colab": {
     "base_uri": "https://localhost:8080/"
    },
    "id": "5YCUHxqRb0lE",
    "outputId": "0984964d-e41d-4aef-cb13-6f6e49b08bbc"
   },
   "outputs": [],
   "source": [
    "# Create model in inference mode\n",
    "import tensorflow as tf\n",
    "with tf.device(DEVICE):\n",
    "    model = modellib.MaskRCNN(mode=\"inference\", model_dir=MODEL_DIR,\n",
    "                              config=config)"
   ]
  },
  {
   "cell_type": "code",
   "execution_count": null,
   "metadata": {
    "colab": {
     "base_uri": "https://localhost:8080/"
    },
    "id": "AmSGCIJ9b1cj",
    "outputId": "12015cb9-b40c-45f8-b24a-6a0438eed8fc"
   },
   "outputs": [],
   "source": [
    "# Set path to construction weights file\n",
    "weights_path = \"logs/mask_rcnn_construction_0030.h5\"\n",
    "\n",
    "# Load weights\n",
    "print(\"Loading weights \", weights_path)\n",
    "model.load_weights(weights_path, by_name=True)"
   ]
  },
  {
   "cell_type": "code",
   "execution_count": null,
   "metadata": {},
   "outputs": [],
   "source": [
    "from Mask_RCNN.utils import load_labels_from_folder, reformat_label, is_polygon, reshape_poly_coordinates, filter_on_image_id"
   ]
  },
  {
   "cell_type": "code",
   "execution_count": null,
   "metadata": {
    "id": "7vWTg2fDKQ9F"
   },
   "outputs": [],
   "source": [
    "dataset_test = utils.Dataset()\n",
    "TEST_DIR = \"../../inputs/Test\"\n",
    "source = \"construction\""
   ]
  },
  {
   "cell_type": "code",
   "execution_count": null,
   "metadata": {},
   "outputs": [],
   "source": [
    "# Add classes\n",
    "dataset_test.add_class(\"construction\", 1, \"Vertical_formwork\")\n",
    "dataset_test.add_class(\"construction\", 2, \"Concrete_pump_hose\")\n",
    "\n",
    "# Add images\n",
    "image_paths = [os.path.join(TEST_DIR, image_name) for image_name in sorted(os.listdir(TEST_DIR))]\n",
    "image_paths.pop(image_paths.index('../../inputs/Test/.ipynb_checkpoints'))\n",
    "i = 0\n",
    "for image_path in image_paths: \n",
    "    img = plt.imread(image_path)\n",
    "    width = img.shape[0]\n",
    "    height = img.shape[1]\n",
    "    dataset_test.add_image(source, i, image_path, width=width,height=height)\n",
    "    i += 1\n",
    "\n",
    "dataset_test.prepare()"
   ]
  },
  {
   "cell_type": "code",
   "execution_count": null,
   "metadata": {},
   "outputs": [],
   "source": [
    "print(\"Images: {}\\nClasses: {}\".format(len(dataset_test.image_ids), dataset_test.class_names))"
   ]
  },
  {
   "cell_type": "code",
   "execution_count": null,
   "metadata": {},
   "outputs": [],
   "source": [
    "images = []\n",
    "for image_id in dataset_test.image_ids:\n",
    "    image, image_meta, gt_class_id, gt_bbox, gt_mask =\\\n",
    "    modellib.load_image_gt(dataset_test, config, image_id, use_mini_mask=False)\n",
    "    info = dataset_test.image_info[image_id]\n",
    "    images.append(image)"
   ]
  },
  {
   "cell_type": "code",
   "execution_count": null,
   "metadata": {},
   "outputs": [],
   "source": [
    "result = model.detect(images, verbose=1)"
   ]
  },
  {
   "cell_type": "code",
   "execution_count": null,
   "metadata": {},
   "outputs": [],
   "source": [
    "result"
   ]
  },
  {
   "cell_type": "code",
   "execution_count": null,
   "metadata": {},
   "outputs": [],
   "source": [
    "import json\n",
    "def jsonify_array(array):\n",
    "    d = {}\n",
    "    ## Merge dictionaries into one\n",
    "    for k in results[0].keys():\n",
    "        d[k] = tuple(d[k] for d in results)\n",
    "    # Prepare output results\n",
    "    out = dict.fromkeys(d.keys())\n",
    "    for key in out.keys():\n",
    "        # Cast numpy arrays to lists\n",
    "        temp_list = [a.tolist() for a in d[key]]\n",
    "        final_list = [val for sublist in temp_list for val in sublist]\n",
    "        out[key] = final_list\n",
    "    return out"
   ]
  },
  {
   "cell_type": "code",
   "execution_count": null,
   "metadata": {},
   "outputs": [],
   "source": [
    "#out = jsonify_results(results)"
   ]
  },
  {
   "cell_type": "code",
   "execution_count": null,
   "metadata": {},
   "outputs": [],
   "source": [
    "#with open('results.json', 'w') as f:\n",
    "#    json.dump(out, f)"
   ]
  }
 ],
 "metadata": {
  "accelerator": "GPU",
  "colab": {
   "collapsed_sections": [],
   "name": "main.ipynb",
   "provenance": [],
   "toc_visible": true
  },
  "kernelspec": {
   "display_name": "Python 3",
   "language": "python",
   "name": "python3"
  },
  "language_info": {
   "codemirror_mode": {
    "name": "ipython",
    "version": 3
   },
   "file_extension": ".py",
   "mimetype": "text/x-python",
   "name": "python",
   "nbconvert_exporter": "python",
   "pygments_lexer": "ipython3",
   "version": "3.7.7"
  }
 },
 "nbformat": 4,
 "nbformat_minor": 4
}
